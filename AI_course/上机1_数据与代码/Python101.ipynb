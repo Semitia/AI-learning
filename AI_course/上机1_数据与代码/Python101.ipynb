{
 "cells": [
  {
   "cell_type": "markdown",
   "id": "5d24fc40-d077-4ea9-977b-0efa36b9a7c2",
   "metadata": {
    "tags": []
   },
   "source": [
    "# 运算"
   ]
  },
  {
   "cell_type": "code",
   "execution_count": 1,
   "id": "55d38878-705d-45b1-80d1-8c2fc741c3f6",
   "metadata": {},
   "outputs": [
    {
     "data": {
      "text/plain": [
       "5"
      ]
     },
     "execution_count": 1,
     "metadata": {},
     "output_type": "execute_result"
    }
   ],
   "source": [
    "2 + 3"
   ]
  },
  {
   "cell_type": "code",
   "execution_count": 2,
   "id": "f988690c-64af-475c-8ea7-fbe0e6c5bf2f",
   "metadata": {},
   "outputs": [
    {
     "data": {
      "text/plain": [
       "6"
      ]
     },
     "execution_count": 2,
     "metadata": {},
     "output_type": "execute_result"
    }
   ],
   "source": [
    "2 * 3"
   ]
  },
  {
   "cell_type": "code",
   "execution_count": 3,
   "id": "468ba038-d283-4cf3-809f-67c484cc954e",
   "metadata": {},
   "outputs": [
    {
     "data": {
      "text/plain": [
       "8"
      ]
     },
     "execution_count": 3,
     "metadata": {},
     "output_type": "execute_result"
    }
   ],
   "source": [
    "2 ** 3"
   ]
  },
  {
   "cell_type": "code",
   "execution_count": 4,
   "id": "32227ed0-529f-4e23-9e09-fb2cbe033467",
   "metadata": {},
   "outputs": [
    {
     "data": {
      "text/plain": [
       "0.6666666666666666"
      ]
     },
     "execution_count": 4,
     "metadata": {},
     "output_type": "execute_result"
    }
   ],
   "source": [
    "2 / 3"
   ]
  },
  {
   "cell_type": "code",
   "execution_count": 5,
   "id": "a40ee70f-91bb-4869-ae2e-0a61d226d3f4",
   "metadata": {},
   "outputs": [
    {
     "data": {
      "text/plain": [
       "True"
      ]
     },
     "execution_count": 5,
     "metadata": {},
     "output_type": "execute_result"
    }
   ],
   "source": [
    "2 <= 3"
   ]
  },
  {
   "cell_type": "code",
   "execution_count": 6,
   "id": "3f5fc575-fcd7-46f6-859d-e5208596a34f",
   "metadata": {},
   "outputs": [
    {
     "data": {
      "text/plain": [
       "False"
      ]
     },
     "execution_count": 6,
     "metadata": {},
     "output_type": "execute_result"
    }
   ],
   "source": [
    "2 == 3"
   ]
  },
  {
   "cell_type": "code",
   "execution_count": 7,
   "id": "fa29c286-89a5-4630-b41c-b22c4fc0310a",
   "metadata": {},
   "outputs": [
    {
     "data": {
      "text/plain": [
       "True"
      ]
     },
     "execution_count": 7,
     "metadata": {},
     "output_type": "execute_result"
    }
   ],
   "source": [
    "2 != 3"
   ]
  },
  {
   "cell_type": "code",
   "execution_count": 8,
   "id": "11b265a6-6b0a-46e9-a875-b8fad041721b",
   "metadata": {},
   "outputs": [
    {
     "data": {
      "text/plain": [
       "False"
      ]
     },
     "execution_count": 8,
     "metadata": {},
     "output_type": "execute_result"
    }
   ],
   "source": [
    "(2 < 3) and (3 < 2)"
   ]
  },
  {
   "cell_type": "code",
   "execution_count": 9,
   "id": "0365a215-63e9-4afd-9fc7-f2b841b1d684",
   "metadata": {},
   "outputs": [
    {
     "data": {
      "text/plain": [
       "True"
      ]
     },
     "execution_count": 9,
     "metadata": {},
     "output_type": "execute_result"
    }
   ],
   "source": [
    "(2 < 3) or (3 < 2)"
   ]
  },
  {
   "cell_type": "markdown",
   "id": "714a5f10-b386-46c1-b23e-f0130eaa42fa",
   "metadata": {},
   "source": [
    "# 字符串"
   ]
  },
  {
   "cell_type": "code",
   "execution_count": 10,
   "id": "c21c3a25-35da-49b9-b16e-9cfb2ce257ab",
   "metadata": {},
   "outputs": [
    {
     "data": {
      "text/plain": [
       "'hello world'"
      ]
     },
     "execution_count": 10,
     "metadata": {},
     "output_type": "execute_result"
    }
   ],
   "source": [
    "'hello world'"
   ]
  },
  {
   "cell_type": "code",
   "execution_count": 11,
   "id": "596b9197-4abf-4513-a37c-2d641f201c4a",
   "metadata": {},
   "outputs": [
    {
     "data": {
      "text/plain": [
       "'hello world'"
      ]
     },
     "execution_count": 11,
     "metadata": {},
     "output_type": "execute_result"
    }
   ],
   "source": [
    "\"hello world\""
   ]
  },
  {
   "cell_type": "code",
   "execution_count": 12,
   "id": "0a722887-25b1-453a-b8a2-9f23bc17317f",
   "metadata": {},
   "outputs": [
    {
     "data": {
      "text/plain": [
       "True"
      ]
     },
     "execution_count": 12,
     "metadata": {},
     "output_type": "execute_result"
    }
   ],
   "source": [
    "'hello world' == \"hello world\""
   ]
  },
  {
   "cell_type": "code",
   "execution_count": 13,
   "id": "ba1cf4d1-4b62-4ae4-a2a2-b4d041bac492",
   "metadata": {},
   "outputs": [
    {
     "name": "stdout",
     "output_type": "stream",
     "text": [
      "hello world\n"
     ]
    }
   ],
   "source": [
    "print('hello world')"
   ]
  },
  {
   "cell_type": "code",
   "execution_count": 14,
   "id": "8876cb5e-6097-486d-a8e1-e90e68b127bd",
   "metadata": {},
   "outputs": [
    {
     "name": "stdout",
     "output_type": "stream",
     "text": [
      "hello 'world'\n"
     ]
    }
   ],
   "source": [
    "print('hello \\'world\\'')"
   ]
  },
  {
   "cell_type": "code",
   "execution_count": 15,
   "id": "91915ab1-a0dd-4d1b-9f79-90e97e6dec82",
   "metadata": {},
   "outputs": [],
   "source": [
    "s = 'hello world'"
   ]
  },
  {
   "cell_type": "code",
   "execution_count": 16,
   "id": "c910a658-c923-4c9f-bf5b-ae21720aa848",
   "metadata": {},
   "outputs": [
    {
     "data": {
      "text/plain": [
       "'l'"
      ]
     },
     "execution_count": 16,
     "metadata": {},
     "output_type": "execute_result"
    }
   ],
   "source": [
    "s[3]"
   ]
  },
  {
   "cell_type": "code",
   "execution_count": 17,
   "id": "db6b42d6-b4c6-4337-8db7-731aea0f7f3c",
   "metadata": {},
   "outputs": [
    {
     "data": {
      "text/plain": [
       "'hel'"
      ]
     },
     "execution_count": 17,
     "metadata": {},
     "output_type": "execute_result"
    }
   ],
   "source": [
    "s[0:3]"
   ]
  },
  {
   "cell_type": "code",
   "execution_count": 18,
   "id": "8a57cc89-d8b3-49e6-8e4c-2826d3e8c4e6",
   "metadata": {},
   "outputs": [
    {
     "data": {
      "text/plain": [
       "'el'"
      ]
     },
     "execution_count": 18,
     "metadata": {},
     "output_type": "execute_result"
    }
   ],
   "source": [
    "s[1:3]"
   ]
  },
  {
   "cell_type": "code",
   "execution_count": 19,
   "id": "c2f15f16-8280-4b9f-ba2f-66071a4ffb87",
   "metadata": {},
   "outputs": [
    {
     "data": {
      "text/plain": [
       "'lo world'"
      ]
     },
     "execution_count": 19,
     "metadata": {},
     "output_type": "execute_result"
    }
   ],
   "source": [
    "s[3:]"
   ]
  },
  {
   "cell_type": "code",
   "execution_count": 20,
   "id": "12a0c5eb-6ff3-4f0d-a3fd-1b2c4cbf0195",
   "metadata": {},
   "outputs": [
    {
     "data": {
      "text/plain": [
       "'rld'"
      ]
     },
     "execution_count": 20,
     "metadata": {},
     "output_type": "execute_result"
    }
   ],
   "source": [
    "s[-3:]"
   ]
  },
  {
   "cell_type": "code",
   "execution_count": 21,
   "id": "e9587914-ed9a-45f5-8be1-8530d262a27a",
   "metadata": {},
   "outputs": [
    {
     "ename": "SyntaxError",
     "evalue": "EOL while scanning string literal (2838636054.py, line 1)",
     "output_type": "error",
     "traceback": [
      "\u001b[1;36m  Cell \u001b[1;32mIn[21], line 1\u001b[1;36m\u001b[0m\n\u001b[1;33m    a='错误的\u001b[0m\n\u001b[1;37m          ^\u001b[0m\n\u001b[1;31mSyntaxError\u001b[0m\u001b[1;31m:\u001b[0m EOL while scanning string literal\n"
     ]
    }
   ],
   "source": [
    "a='错误的\n",
    "多行文本'\n",
    "print(a) # You will see a SyntaxError"
   ]
  },
  {
   "cell_type": "code",
   "execution_count": 22,
   "id": "a92eca52-0ae5-4ed8-b648-1fb74cf4d125",
   "metadata": {},
   "outputs": [
    {
     "name": "stdout",
     "output_type": "stream",
     "text": [
      "正确的\n",
      "多行文本\n"
     ]
    }
   ],
   "source": [
    "a='''正确的\n",
    "多行文本'''\n",
    "print(a)"
   ]
  },
  {
   "cell_type": "code",
   "execution_count": 23,
   "id": "0f2dc664-9d9d-4c5b-8510-aa2654e2c033",
   "metadata": {},
   "outputs": [
    {
     "name": "stdout",
     "output_type": "stream",
     "text": [
      "换行\n",
      "换行\n"
     ]
    }
   ],
   "source": [
    "print('换行\\n换行')"
   ]
  },
  {
   "cell_type": "markdown",
   "id": "cce1c83d-5b3a-4ea3-9e9e-ecb372d09b29",
   "metadata": {},
   "source": [
    "# List"
   ]
  },
  {
   "cell_type": "code",
   "execution_count": 24,
   "id": "1b7e007e-190b-48fa-ab89-6b4bc4abd9f3",
   "metadata": {},
   "outputs": [],
   "source": [
    "xs = [1,2,3,4,5]"
   ]
  },
  {
   "cell_type": "code",
   "execution_count": 25,
   "id": "3bd769ba-02ec-4cb0-9eaf-17cc2c30b650",
   "metadata": {},
   "outputs": [
    {
     "data": {
      "text/plain": [
       "1"
      ]
     },
     "execution_count": 25,
     "metadata": {},
     "output_type": "execute_result"
    }
   ],
   "source": [
    "xs[0]"
   ]
  },
  {
   "cell_type": "code",
   "execution_count": 26,
   "id": "d75cf3f3-1a55-451c-ac79-a5f3dd89cc05",
   "metadata": {},
   "outputs": [
    {
     "data": {
      "text/plain": [
       "5"
      ]
     },
     "execution_count": 26,
     "metadata": {},
     "output_type": "execute_result"
    }
   ],
   "source": [
    "xs[4]"
   ]
  },
  {
   "cell_type": "code",
   "execution_count": 27,
   "id": "b14ea959-40f4-429f-a0e4-ddac88c66dc2",
   "metadata": {},
   "outputs": [
    {
     "data": {
      "text/plain": [
       "[2, 3, 4]"
      ]
     },
     "execution_count": 27,
     "metadata": {},
     "output_type": "execute_result"
    }
   ],
   "source": [
    "xs[1:4] # 左闭右开"
   ]
  },
  {
   "cell_type": "code",
   "execution_count": 28,
   "id": "91eba13c-2510-461d-ad8b-184163ea5f03",
   "metadata": {},
   "outputs": [
    {
     "data": {
      "text/plain": [
       "[4, 5]"
      ]
     },
     "execution_count": 28,
     "metadata": {},
     "output_type": "execute_result"
    }
   ],
   "source": [
    "xs[3:]"
   ]
  },
  {
   "cell_type": "markdown",
   "id": "37573b50-364f-4169-8d3e-2a1fa401395b",
   "metadata": {},
   "source": [
    "# Tuple"
   ]
  },
  {
   "cell_type": "code",
   "execution_count": 29,
   "id": "78c09107-408c-41ce-ba64-955ec3764eb6",
   "metadata": {},
   "outputs": [
    {
     "data": {
      "text/plain": [
       "list"
      ]
     },
     "execution_count": 29,
     "metadata": {},
     "output_type": "execute_result"
    }
   ],
   "source": [
    "xs_list = [1,2,3,4,5]\n",
    "type(xs_list)"
   ]
  },
  {
   "cell_type": "code",
   "execution_count": 30,
   "id": "873197ea-e921-47ba-84e6-d997df389635",
   "metadata": {},
   "outputs": [
    {
     "data": {
      "text/plain": [
       "tuple"
      ]
     },
     "execution_count": 30,
     "metadata": {},
     "output_type": "execute_result"
    }
   ],
   "source": [
    "xs_tuple = (1,2,3,4,5)\n",
    "type(xs_tuple)"
   ]
  },
  {
   "cell_type": "code",
   "execution_count": 31,
   "id": "b4e7470a-7d36-4fe5-85f1-4f5f333a2af9",
   "metadata": {},
   "outputs": [
    {
     "data": {
      "text/plain": [
       "1"
      ]
     },
     "execution_count": 31,
     "metadata": {},
     "output_type": "execute_result"
    }
   ],
   "source": [
    "xs_tuple[0]"
   ]
  },
  {
   "cell_type": "code",
   "execution_count": 32,
   "id": "07aaae40-b4b2-45eb-9be7-c33b26192b12",
   "metadata": {},
   "outputs": [
    {
     "data": {
      "text/plain": [
       "(4, 5)"
      ]
     },
     "execution_count": 32,
     "metadata": {},
     "output_type": "execute_result"
    }
   ],
   "source": [
    "xs_tuple[3:]"
   ]
  },
  {
   "cell_type": "code",
   "execution_count": 33,
   "id": "9c49322d-e76f-413e-8c52-adac76ecb0aa",
   "metadata": {},
   "outputs": [
    {
     "data": {
      "text/plain": [
       "[100, 2, 3, 4, 5]"
      ]
     },
     "execution_count": 33,
     "metadata": {},
     "output_type": "execute_result"
    }
   ],
   "source": [
    "xs_list[0] = 100\n",
    "xs_list"
   ]
  },
  {
   "cell_type": "code",
   "execution_count": 34,
   "id": "37273267-19e1-4c70-8c07-ceb8cfb1a489",
   "metadata": {},
   "outputs": [
    {
     "ename": "TypeError",
     "evalue": "'tuple' object does not support item assignment",
     "output_type": "error",
     "traceback": [
      "\u001b[1;31m---------------------------------------------------------------------------\u001b[0m",
      "\u001b[1;31mTypeError\u001b[0m                                 Traceback (most recent call last)",
      "Cell \u001b[1;32mIn[34], line 1\u001b[0m\n\u001b[1;32m----> 1\u001b[0m \u001b[43mxs_tuple\u001b[49m\u001b[43m[\u001b[49m\u001b[38;5;241;43m0\u001b[39;49m\u001b[43m]\u001b[49m \u001b[38;5;241m=\u001b[39m \u001b[38;5;241m100\u001b[39m\n\u001b[0;32m      2\u001b[0m xs_tuple \u001b[38;5;66;03m# You will see a TypeError\u001b[39;00m\n",
      "\u001b[1;31mTypeError\u001b[0m: 'tuple' object does not support item assignment"
     ]
    }
   ],
   "source": [
    "xs_tuple[0] = 100\n",
    "xs_tuple # You will see a TypeError"
   ]
  },
  {
   "cell_type": "markdown",
   "id": "bb90d9a6-b8f9-4432-bf17-105abc111b56",
   "metadata": {},
   "source": [
    "# 注释"
   ]
  },
  {
   "cell_type": "code",
   "execution_count": 36,
   "id": "6473fee8-1f40-40c6-8589-a4e2f3b04358",
   "metadata": {},
   "outputs": [],
   "source": [
    "a = 1 # 这是注释"
   ]
  },
  {
   "cell_type": "code",
   "execution_count": 37,
   "id": "0f9443d5-3c58-4c75-8f97-5370d7d5f0c8",
   "metadata": {},
   "outputs": [],
   "source": [
    "# 这也是注释\n",
    "a = 1"
   ]
  },
  {
   "cell_type": "code",
   "execution_count": 38,
   "id": "e0ca03b3-9c2b-44e2-949f-0dc5c7daf6fe",
   "metadata": {},
   "outputs": [
    {
     "name": "stdout",
     "output_type": "stream",
     "text": [
      "1\n"
     ]
    }
   ],
   "source": [
    "a = 1\n",
    "\n",
    "'''\n",
    "三个单引号也可用来写长注释\n",
    "a = 2\n",
    "'''\n",
    "\n",
    "print(a)"
   ]
  },
  {
   "cell_type": "markdown",
   "id": "c834c7a5-7af2-4cb3-99e6-d230b4080118",
   "metadata": {},
   "source": [
    "# Dictionaries"
   ]
  },
  {
   "cell_type": "code",
   "execution_count": 39,
   "id": "ef18fa73-5e19-4edc-a21c-f00bb19a4c2d",
   "metadata": {},
   "outputs": [
    {
     "data": {
      "text/plain": [
       "{'length': 1, 'height': 2, 'weight': 3, 'hello world': 4}"
      ]
     },
     "execution_count": 39,
     "metadata": {},
     "output_type": "execute_result"
    }
   ],
   "source": [
    "a = {\n",
    "    'length': 1,\n",
    "    'height': 2,\n",
    "    'weight': 3,\n",
    "    'hello world': 4\n",
    "}\n",
    "a"
   ]
  },
  {
   "cell_type": "code",
   "execution_count": 40,
   "id": "375fe712-0918-41b1-a07a-23d19cbb0979",
   "metadata": {},
   "outputs": [
    {
     "data": {
      "text/plain": [
       "1"
      ]
     },
     "execution_count": 40,
     "metadata": {},
     "output_type": "execute_result"
    }
   ],
   "source": [
    "a['length']"
   ]
  },
  {
   "cell_type": "code",
   "execution_count": 41,
   "id": "008ba0e0-d572-4b01-8254-d95a17b5f18f",
   "metadata": {},
   "outputs": [
    {
     "data": {
      "text/plain": [
       "4"
      ]
     },
     "execution_count": 41,
     "metadata": {},
     "output_type": "execute_result"
    }
   ],
   "source": [
    "a['hello world']"
   ]
  },
  {
   "cell_type": "code",
   "execution_count": 42,
   "id": "bc4c9166-ae60-4dd6-a48e-c83f58e357c2",
   "metadata": {},
   "outputs": [
    {
     "data": {
      "text/plain": [
       "dict_keys(['length', 'height', 'weight', 'hello world'])"
      ]
     },
     "execution_count": 42,
     "metadata": {},
     "output_type": "execute_result"
    }
   ],
   "source": [
    "a.keys()"
   ]
  },
  {
   "cell_type": "markdown",
   "id": "84d23f22-00b0-4be6-8c1d-2e350382f967",
   "metadata": {},
   "source": [
    "# Import packages"
   ]
  },
  {
   "cell_type": "code",
   "execution_count": 43,
   "id": "f1a101ff-4ee7-4b94-ac6e-f96531cc2200",
   "metadata": {},
   "outputs": [
    {
     "data": {
      "text/plain": [
       "array([0. , 0.1, 0.2, 0.3, 0.4, 0.5, 0.6, 0.7, 0.8, 0.9, 1. ])"
      ]
     },
     "execution_count": 43,
     "metadata": {},
     "output_type": "execute_result"
    }
   ],
   "source": [
    "import numpy\n",
    "numpy.linspace(0,1,11)"
   ]
  },
  {
   "cell_type": "code",
   "execution_count": 44,
   "id": "28b5163e-b430-4878-b1d3-1c5d7559562a",
   "metadata": {},
   "outputs": [
    {
     "data": {
      "text/plain": [
       "array([0. , 0.1, 0.2, 0.3, 0.4, 0.5, 0.6, 0.7, 0.8, 0.9, 1. ])"
      ]
     },
     "execution_count": 44,
     "metadata": {},
     "output_type": "execute_result"
    }
   ],
   "source": [
    "import numpy as np\n",
    "np.linspace(0,1,11)"
   ]
  },
  {
   "cell_type": "code",
   "execution_count": 45,
   "id": "ebeeaaf4-8fc8-4cd2-8ef8-7b9be7fe45c3",
   "metadata": {},
   "outputs": [
    {
     "data": {
      "text/plain": [
       "array([0. , 0.1, 0.2, 0.3, 0.4, 0.5, 0.6, 0.7, 0.8, 0.9, 1. ])"
      ]
     },
     "execution_count": 45,
     "metadata": {},
     "output_type": "execute_result"
    }
   ],
   "source": [
    "from numpy import linspace\n",
    "linspace(0,1,11)"
   ]
  },
  {
   "cell_type": "markdown",
   "id": "ca1639ab-311f-40c6-9d16-2e0434de3a21",
   "metadata": {},
   "source": [
    "# Built-in functions"
   ]
  },
  {
   "cell_type": "code",
   "execution_count": 46,
   "id": "803fd506-cea1-4bb8-a645-33e4a6dba1c8",
   "metadata": {},
   "outputs": [
    {
     "data": {
      "text/plain": [
       "3"
      ]
     },
     "execution_count": 46,
     "metadata": {},
     "output_type": "execute_result"
    }
   ],
   "source": [
    "xs = [101,102,103]\n",
    "len(xs)"
   ]
  },
  {
   "cell_type": "code",
   "execution_count": 47,
   "id": "261bc7f7-8919-4d7a-8656-96c2135297c0",
   "metadata": {},
   "outputs": [
    {
     "data": {
      "text/plain": [
       "list"
      ]
     },
     "execution_count": 47,
     "metadata": {},
     "output_type": "execute_result"
    }
   ],
   "source": [
    "type(xs)"
   ]
  },
  {
   "cell_type": "code",
   "execution_count": 48,
   "id": "47367ca4-1822-4464-8778-d65fc9731b7f",
   "metadata": {},
   "outputs": [
    {
     "name": "stdout",
     "output_type": "stream",
     "text": [
      "0 101\n",
      "1 102\n",
      "2 103\n"
     ]
    }
   ],
   "source": [
    "xs = [101,102,103]\n",
    "n = len(xs)\n",
    "for i in range(n):\n",
    "    print(i, xs[i])"
   ]
  },
  {
   "cell_type": "code",
   "execution_count": 49,
   "id": "b76cff35-595e-4eb3-88ec-f1bfece31789",
   "metadata": {},
   "outputs": [
    {
     "data": {
      "text/plain": [
       "range(0, 5)"
      ]
     },
     "execution_count": 49,
     "metadata": {},
     "output_type": "execute_result"
    }
   ],
   "source": [
    "range(5)"
   ]
  },
  {
   "cell_type": "code",
   "execution_count": 50,
   "id": "7368f413-301d-4011-a35e-0e7b05ee1def",
   "metadata": {},
   "outputs": [
    {
     "data": {
      "text/plain": [
       "[0, 1, 2, 3, 4]"
      ]
     },
     "execution_count": 50,
     "metadata": {},
     "output_type": "execute_result"
    }
   ],
   "source": [
    "list(range(5))"
   ]
  },
  {
   "cell_type": "code",
   "execution_count": null,
   "id": "52da09c6-180a-44a1-909b-16937dabc1d7",
   "metadata": {},
   "outputs": [],
   "source": []
  },
  {
   "cell_type": "markdown",
   "id": "9fbfe446-8261-46e0-abdf-bff056a5f5dd",
   "metadata": {},
   "source": [
    "# 函数"
   ]
  },
  {
   "cell_type": "code",
   "execution_count": 51,
   "id": "7d61b575-661d-41cc-bf90-eaad82a63d16",
   "metadata": {},
   "outputs": [],
   "source": [
    "def add(a, b):\n",
    "    \"\"\"Add stuff.\n",
    "\n",
    "    a - something that can be addded\n",
    "    b - something that can be added\n",
    "\n",
    "    Returns a + b\n",
    "    \"\"\"\n",
    "    ans = a + b\n",
    "    return ans"
   ]
  },
  {
   "cell_type": "code",
   "execution_count": 52,
   "id": "91acf1ff-71d5-46c0-9e61-05cc8e02f83d",
   "metadata": {},
   "outputs": [
    {
     "name": "stdout",
     "output_type": "stream",
     "text": [
      "Help on function add in module __main__:\n",
      "\n",
      "add(a, b)\n",
      "    Add stuff.\n",
      "    \n",
      "    a - something that can be addded\n",
      "    b - something that can be added\n",
      "    \n",
      "    Returns a + b\n",
      "\n"
     ]
    }
   ],
   "source": [
    "help(add)"
   ]
  },
  {
   "cell_type": "code",
   "execution_count": 53,
   "id": "98284b20-5d8d-4ff2-bfcc-b12f800da8cd",
   "metadata": {},
   "outputs": [
    {
     "data": {
      "text/plain": [
       "5"
      ]
     },
     "execution_count": 53,
     "metadata": {},
     "output_type": "execute_result"
    }
   ],
   "source": [
    "x = 2\n",
    "y = 3\n",
    "add(x, y)"
   ]
  },
  {
   "cell_type": "code",
   "execution_count": 54,
   "id": "19b476e6-05a7-4a71-8f9f-1c18f7ed4b6d",
   "metadata": {},
   "outputs": [
    {
     "data": {
      "text/plain": [
       "[1, 23, 6, 7, 8]"
      ]
     },
     "execution_count": 54,
     "metadata": {},
     "output_type": "execute_result"
    }
   ],
   "source": [
    "[1,23] + [6,7,8]"
   ]
  },
  {
   "cell_type": "code",
   "execution_count": 55,
   "id": "81732f63-c8f2-47ce-8e86-e9353aee936f",
   "metadata": {},
   "outputs": [
    {
     "data": {
      "text/plain": [
       "[1, 23, 6, 7, 8]"
      ]
     },
     "execution_count": 55,
     "metadata": {},
     "output_type": "execute_result"
    }
   ],
   "source": [
    "add([1,23], [6,7,8])"
   ]
  },
  {
   "cell_type": "code",
   "execution_count": 56,
   "id": "97d85915-3af4-47fa-807a-60d2e57e9492",
   "metadata": {},
   "outputs": [],
   "source": [
    "def f(a,b,c):\n",
    "    return c,b,a"
   ]
  },
  {
   "cell_type": "code",
   "execution_count": 57,
   "id": "0f96f2d6-c0db-46aa-841c-4159ce4d698b",
   "metadata": {},
   "outputs": [
    {
     "data": {
      "text/plain": [
       "(3, 2, 1)"
      ]
     },
     "execution_count": 57,
     "metadata": {},
     "output_type": "execute_result"
    }
   ],
   "source": [
    "f(1,2,3)"
   ]
  },
  {
   "cell_type": "code",
   "execution_count": 58,
   "id": "2443413b-4544-4a9f-8cdc-f77851aadb93",
   "metadata": {},
   "outputs": [
    {
     "data": {
      "text/plain": [
       "tuple"
      ]
     },
     "execution_count": 58,
     "metadata": {},
     "output_type": "execute_result"
    }
   ],
   "source": [
    "f_output = f(1,2,3)\n",
    "type(f_output)"
   ]
  },
  {
   "cell_type": "code",
   "execution_count": 59,
   "id": "30630ab1-1317-47bd-ab2c-c3303ebf45fc",
   "metadata": {},
   "outputs": [
    {
     "data": {
      "text/plain": [
       "(3, 2, 1)"
      ]
     },
     "execution_count": 59,
     "metadata": {},
     "output_type": "execute_result"
    }
   ],
   "source": [
    "f(a=1,b=2,c=3)"
   ]
  },
  {
   "cell_type": "code",
   "execution_count": 60,
   "id": "8ac6b766-e1b2-4614-b45d-67f24d5083aa",
   "metadata": {},
   "outputs": [
    {
     "data": {
      "text/plain": [
       "(3, 2, 1)"
      ]
     },
     "execution_count": 60,
     "metadata": {},
     "output_type": "execute_result"
    }
   ],
   "source": [
    "f(c=3,b=2,a=1)"
   ]
  },
  {
   "cell_type": "markdown",
   "id": "feaa392d-8d9c-4958-9a02-cc8dd8176a24",
   "metadata": {},
   "source": [
    "## 函数的默认参数"
   ]
  },
  {
   "cell_type": "code",
   "execution_count": 61,
   "id": "21cac20b-6efd-47f0-87f2-643659826cf4",
   "metadata": {},
   "outputs": [],
   "source": [
    "def f_default(a=10,b=20,c=30):\n",
    "    return c,b,a"
   ]
  },
  {
   "cell_type": "code",
   "execution_count": 62,
   "id": "181b6b88-10cd-475c-89a8-86d917c53fc8",
   "metadata": {},
   "outputs": [
    {
     "data": {
      "text/plain": [
       "(30, 20, 10)"
      ]
     },
     "execution_count": 62,
     "metadata": {},
     "output_type": "execute_result"
    }
   ],
   "source": [
    "f_default()"
   ]
  },
  {
   "cell_type": "code",
   "execution_count": 63,
   "id": "9e61b506-a512-4cb1-9f32-d5c07f58dc99",
   "metadata": {},
   "outputs": [
    {
     "data": {
      "text/plain": [
       "(30, 20, 100)"
      ]
     },
     "execution_count": 63,
     "metadata": {},
     "output_type": "execute_result"
    }
   ],
   "source": [
    "f_default(100)"
   ]
  },
  {
   "cell_type": "code",
   "execution_count": 64,
   "id": "e3437889-69f9-4199-ba27-1e20bcee4418",
   "metadata": {},
   "outputs": [
    {
     "data": {
      "text/plain": [
       "(100, 20, 10)"
      ]
     },
     "execution_count": 64,
     "metadata": {},
     "output_type": "execute_result"
    }
   ],
   "source": [
    "f_default(c = 100)"
   ]
  },
  {
   "cell_type": "code",
   "execution_count": null,
   "id": "4d38f7d5-05d7-4132-820c-a27ee50b45b0",
   "metadata": {},
   "outputs": [],
   "source": []
  },
  {
   "cell_type": "markdown",
   "id": "74dc37ce-4d3a-4906-908d-10f178fb7118",
   "metadata": {},
   "source": [
    "## Variadic arguments"
   ]
  },
  {
   "cell_type": "code",
   "execution_count": 65,
   "id": "dad271bd-2fba-4a3a-8919-ea2aa4201051",
   "metadata": {},
   "outputs": [],
   "source": [
    "def f_v(a, *args):\n",
    "    return a, args"
   ]
  },
  {
   "cell_type": "code",
   "execution_count": 66,
   "id": "b117349b-106a-41fc-a2ff-39642a3f8848",
   "metadata": {},
   "outputs": [
    {
     "data": {
      "text/plain": [
       "(1, ())"
      ]
     },
     "execution_count": 66,
     "metadata": {},
     "output_type": "execute_result"
    }
   ],
   "source": [
    "f_v(1)"
   ]
  },
  {
   "cell_type": "code",
   "execution_count": 67,
   "id": "0393fc3e-74ec-445d-b9f3-9278f88e1050",
   "metadata": {},
   "outputs": [
    {
     "data": {
      "text/plain": [
       "(1, (2,))"
      ]
     },
     "execution_count": 67,
     "metadata": {},
     "output_type": "execute_result"
    }
   ],
   "source": [
    "f_v(1,2)"
   ]
  },
  {
   "cell_type": "code",
   "execution_count": 68,
   "id": "710737c3-70ef-42bd-bd44-7b65a5b5d051",
   "metadata": {},
   "outputs": [
    {
     "data": {
      "text/plain": [
       "(1, (2, 3))"
      ]
     },
     "execution_count": 68,
     "metadata": {},
     "output_type": "execute_result"
    }
   ],
   "source": [
    "f_v(1,2,3)"
   ]
  },
  {
   "cell_type": "code",
   "execution_count": 69,
   "id": "63785306-4871-483a-b1d2-9501dfff42fa",
   "metadata": {},
   "outputs": [
    {
     "ename": "TypeError",
     "evalue": "f_v() got an unexpected keyword argument 'name'",
     "output_type": "error",
     "traceback": [
      "\u001b[1;31m---------------------------------------------------------------------------\u001b[0m",
      "\u001b[1;31mTypeError\u001b[0m                                 Traceback (most recent call last)",
      "Cell \u001b[1;32mIn[69], line 1\u001b[0m\n\u001b[1;32m----> 1\u001b[0m \u001b[43mf_v\u001b[49m\u001b[43m(\u001b[49m\u001b[38;5;241;43m1\u001b[39;49m\u001b[43m,\u001b[49m\u001b[43mname\u001b[49m\u001b[38;5;241;43m=\u001b[39;49m\u001b[38;5;124;43m'\u001b[39;49m\u001b[38;5;124;43mAlice\u001b[39;49m\u001b[38;5;124;43m'\u001b[39;49m\u001b[43m,\u001b[49m\u001b[43mage\u001b[49m\u001b[38;5;241;43m=\u001b[39;49m\u001b[38;5;241;43m5\u001b[39;49m\u001b[43m)\u001b[49m \u001b[38;5;66;03m# You will see a TypeError\u001b[39;00m\n",
      "\u001b[1;31mTypeError\u001b[0m: f_v() got an unexpected keyword argument 'name'"
     ]
    }
   ],
   "source": [
    "f_v(1,name='Alice',age=5) # You will see a TypeError"
   ]
  },
  {
   "cell_type": "code",
   "execution_count": 70,
   "id": "b2b6f7c9-78e6-448f-8ad5-5169f3e751e4",
   "metadata": {},
   "outputs": [],
   "source": [
    "def f_v2(a, *args, **kwargs):\n",
    "    return a, args, kwargs"
   ]
  },
  {
   "cell_type": "markdown",
   "id": "43a4b13b",
   "metadata": {},
   "source": [
    "### 位置参数和关键字参数\n",
    "位置参数 (Positional Arguments)：指根据参数的位置来传递的参数。在调用函数时，位置参数的值按照定义顺序依次赋值给函数的参数。\n",
    "```PYTHON\n",
    "def example(a, b, c):\n",
    "    print(a, b, c)\n",
    "\n",
    "example(1, 2, 3)  # 输出：1 2 3\n",
    "```\n",
    "在上面的例子中，1 赋值给 a，2 赋值给 b，3 赋值给 c，都是根据位置传递的。\n",
    "\n",
    "关键字参数 (Keyword Arguments)：指在调用函数时，直接通过参数名称指定值。关键字参数不依赖顺序，而是通过参数名来传递。\n",
    "```PYTHON\n",
    "def example(a, b, c):\n",
    "    print(a, b, c)\n",
    "\n",
    "example(a=1, c=3, b=2)  # 输出：1 2 3\n",
    "```\n",
    "\n",
    "在上面的例子中，a=1，b=2，c=3，通过参数名指定值的传递。\n",
    "\n",
    "### *args 和 **kwargs 的作用\n",
    "*args：用于接收不定数量的位置参数，并将它们存储在一个元组中。\n",
    "```PYTHON\n",
    "def example(*args):\n",
    "    print(args)\n",
    "\n",
    "example(1, 2, 3)  # 输出：(1, 2, 3)\n",
    "```\n",
    "\n",
    "这里 args 是 (1, 2, 3)，表示接收的所有位置参数被收集到一个元组中。\n",
    "\n",
    "**kwargs：用于接收不定数量的关键字参数，并将它们存储在一个字典中。\n",
    "```PYTHON\n",
    "def example(**kwargs):\n",
    "    print(kwargs)\n",
    "\n",
    "example(a=1, b=2, c=3)  # 输出：{'a': 1, 'b': 2, 'c': 3}\n",
    "```\n",
    "这里 kwargs 是 {'a': 1, 'b': 2, 'c': 3}，表示接收的所有关键字参数被收集到一个字典中。"
   ]
  },
  {
   "cell_type": "code",
   "execution_count": 71,
   "id": "e9768bdd-12b2-45e1-9dfa-e83eab6ea7f6",
   "metadata": {},
   "outputs": [
    {
     "data": {
      "text/plain": [
       "(1, (2, 3), {})"
      ]
     },
     "execution_count": 71,
     "metadata": {},
     "output_type": "execute_result"
    }
   ],
   "source": [
    "f_v2(1,2,3)"
   ]
  },
  {
   "cell_type": "code",
   "execution_count": 72,
   "id": "c34048b2-7b3e-4426-bcf5-f6cb1a677cdf",
   "metadata": {},
   "outputs": [
    {
     "data": {
      "text/plain": [
       "(1, (), {'name': 'Alice', 'age': 5})"
      ]
     },
     "execution_count": 72,
     "metadata": {},
     "output_type": "execute_result"
    }
   ],
   "source": [
    "f_v2(1,name='Alice',age=5)"
   ]
  },
  {
   "cell_type": "code",
   "execution_count": 73,
   "id": "8b16f023-d542-4d04-a815-f3151f0f908a",
   "metadata": {},
   "outputs": [
    {
     "data": {
      "text/plain": [
       "(1, (2, 3), {'name': 'Alice', 'age': 5})"
      ]
     },
     "execution_count": 73,
     "metadata": {},
     "output_type": "execute_result"
    }
   ],
   "source": [
    "f_v2(1,2,3,name='Alice',age=5)"
   ]
  },
  {
   "cell_type": "markdown",
   "id": "9638597a-05cb-4017-9f59-9d5dbd5313cf",
   "metadata": {},
   "source": [
    "# 对象"
   ]
  },
  {
   "cell_type": "code",
   "execution_count": 74,
   "id": "2ce48733-77dc-4143-bd12-6fd1a9d9258e",
   "metadata": {},
   "outputs": [],
   "source": [
    "class A: # 类（class）\n",
    "    \"\"\"Class A\"\"\"\n",
    "    def __init__(self, x):\n",
    "        self.x = x\n",
    "\n",
    "    def __repr__(self):\n",
    "        return '{}({})'.format(self.__class__.__name__, self.x)\n",
    "\n",
    "    def report(self):\n",
    "        return self.x\n",
    "    \n",
    "    def increase(self,increasement = 1):\n",
    "        self.x = self.x + increasement\n",
    "        return self.x\n",
    "    \n",
    "    def silent_increase(self,increasement = 1):\n",
    "        self.x = self.x + increasement\n",
    "\n",
    "class B(A):\n",
    "    \"\"\"Class B inherits from A.\"\"\"\n",
    "    def __init__(self, x, y):\n",
    "        self.y = y\n",
    "        # super() returns the first parent class with the a method called __init__\n",
    "        super().__init__(x)\n",
    "\n",
    "    def report(self):\n",
    "        \"\"\"Over-ridden method.\"\"\"\n",
    "        return self.x, self.y"
   ]
  },
  {
   "cell_type": "code",
   "execution_count": 75,
   "id": "b2d0716d-5956-4af0-8410-a1e57a86801b",
   "metadata": {},
   "outputs": [],
   "source": [
    "a = A(1) # a是类A的一个实体（instance）\n",
    "b = B(2,3)"
   ]
  },
  {
   "cell_type": "code",
   "execution_count": 76,
   "id": "acd0a0e0-6129-4696-a2ea-a48d9434bb2f",
   "metadata": {},
   "outputs": [
    {
     "data": {
      "text/plain": [
       "(A(1), B(2))"
      ]
     },
     "execution_count": 76,
     "metadata": {},
     "output_type": "execute_result"
    }
   ],
   "source": [
    "a, b # This uses the ``__repr__`` method found only in A"
   ]
  },
  {
   "cell_type": "code",
   "execution_count": 77,
   "id": "0c91e340-4594-47e1-9dda-626ce28a8764",
   "metadata": {},
   "outputs": [
    {
     "data": {
      "text/plain": [
       "1"
      ]
     },
     "execution_count": 77,
     "metadata": {},
     "output_type": "execute_result"
    }
   ],
   "source": [
    "a.report() # report()是类A的所有实体均具有的方法（method）"
   ]
  },
  {
   "cell_type": "code",
   "execution_count": 78,
   "id": "3fccc19f-d29b-4f13-91ab-a0a1c2fd1494",
   "metadata": {},
   "outputs": [
    {
     "data": {
      "text/plain": [
       "(2, 3)"
      ]
     },
     "execution_count": 78,
     "metadata": {},
     "output_type": "execute_result"
    }
   ],
   "source": [
    "b.report()"
   ]
  },
  {
   "cell_type": "code",
   "execution_count": 79,
   "id": "0164a9e4-4312-4384-aee0-dfe05b821806",
   "metadata": {},
   "outputs": [
    {
     "data": {
      "text/plain": [
       "1"
      ]
     },
     "execution_count": 79,
     "metadata": {},
     "output_type": "execute_result"
    }
   ],
   "source": [
    "a.x # x是类A的所有实体均具有的属性（attribute）"
   ]
  },
  {
   "cell_type": "code",
   "execution_count": 80,
   "id": "cfa488ab-b9d8-4056-803b-c983c1d65b02",
   "metadata": {},
   "outputs": [
    {
     "data": {
      "text/plain": [
       "2"
      ]
     },
     "execution_count": 80,
     "metadata": {},
     "output_type": "execute_result"
    }
   ],
   "source": [
    "a.increase()"
   ]
  },
  {
   "cell_type": "code",
   "execution_count": 81,
   "id": "a8b09760-a567-4ef1-9582-46888b80736e",
   "metadata": {},
   "outputs": [
    {
     "data": {
      "text/plain": [
       "12"
      ]
     },
     "execution_count": 81,
     "metadata": {},
     "output_type": "execute_result"
    }
   ],
   "source": [
    "a.increase(10)"
   ]
  },
  {
   "cell_type": "code",
   "execution_count": 82,
   "id": "14b64730-7d72-408f-80ed-7e50149103f9",
   "metadata": {},
   "outputs": [
    {
     "data": {
      "text/plain": [
       "12"
      ]
     },
     "execution_count": 82,
     "metadata": {},
     "output_type": "execute_result"
    }
   ],
   "source": [
    "a.x"
   ]
  },
  {
   "cell_type": "code",
   "execution_count": 83,
   "id": "d25386f5-79b4-4f25-92b0-1e99cc3dbf6b",
   "metadata": {},
   "outputs": [],
   "source": [
    "a.silent_increase()"
   ]
  },
  {
   "cell_type": "code",
   "execution_count": 84,
   "id": "9069c2ca-d883-4f79-9abe-474126e2d57b",
   "metadata": {},
   "outputs": [
    {
     "data": {
      "text/plain": [
       "13"
      ]
     },
     "execution_count": 84,
     "metadata": {},
     "output_type": "execute_result"
    }
   ],
   "source": [
    "a.x"
   ]
  },
  {
   "cell_type": "code",
   "execution_count": 85,
   "id": "768f2ed5-fccc-4829-8bf3-66e983aadb69",
   "metadata": {},
   "outputs": [
    {
     "data": {
      "text/plain": [
       "'type'"
      ]
     },
     "execution_count": 85,
     "metadata": {},
     "output_type": "execute_result"
    }
   ],
   "source": [
    "# class attributes and methods\n",
    "A.__class__.__name__"
   ]
  },
  {
   "cell_type": "code",
   "execution_count": 86,
   "id": "35cd8f54-b9a0-4adf-b905-5c4165c4d3b8",
   "metadata": {},
   "outputs": [
    {
     "data": {
      "text/plain": [
       "'A'"
      ]
     },
     "execution_count": 86,
     "metadata": {},
     "output_type": "execute_result"
    }
   ],
   "source": [
    "# instance attributes and methods\n",
    "a.__class__.__name__"
   ]
  },
  {
   "cell_type": "markdown",
   "id": "7b4170a8-5885-44d0-beb4-4049091aaa98",
   "metadata": {},
   "source": [
    "### Special methods\n",
    "\n",
    "such as \n",
    "```\n",
    "__init__, __repr__.\n",
    "```\n",
    "https://diveintopython3.net/special-method-names.html"
   ]
  },
  {
   "cell_type": "code",
   "execution_count": null,
   "id": "4a6e8e94-9863-4448-a408-2aa42c73a091",
   "metadata": {},
   "outputs": [],
   "source": []
  },
  {
   "cell_type": "code",
   "execution_count": null,
   "id": "b9ce6ed8-48af-4647-afdc-d12a6ba960fb",
   "metadata": {},
   "outputs": [],
   "source": []
  }
 ],
 "metadata": {
  "kernelspec": {
   "display_name": "Python 3 (ipykernel)",
   "language": "python",
   "name": "python3"
  },
  "language_info": {
   "codemirror_mode": {
    "name": "ipython",
    "version": 3
   },
   "file_extension": ".py",
   "mimetype": "text/x-python",
   "name": "python",
   "nbconvert_exporter": "python",
   "pygments_lexer": "ipython3",
   "version": "3.9.13"
  }
 },
 "nbformat": 4,
 "nbformat_minor": 5
}
