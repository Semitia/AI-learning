{
 "cells": [
  {
   "cell_type": "markdown",
   "id": "36a09510-c10a-4cf8-8fcb-8d0b364b0662",
   "metadata": {},
   "source": [
    "https://numpy.org/doc/stable/reference/index.html "
   ]
  },
  {
   "cell_type": "code",
   "execution_count": 2,
   "id": "8a91921e-5102-4d0a-b280-938615a9ab37",
   "metadata": {},
   "outputs": [],
   "source": [
    "import numpy as np"
   ]
  },
  {
   "cell_type": "markdown",
   "id": "e7c655e5-e292-4f96-a213-052d6ed8c5bf",
   "metadata": {},
   "source": [
    "# Array shape"
   ]
  },
  {
   "cell_type": "code",
   "execution_count": 3,
   "id": "bd324d4f-4187-4fb0-b247-437ee27325d5",
   "metadata": {},
   "outputs": [],
   "source": [
    "xs = np.array([1,10])"
   ]
  },
  {
   "cell_type": "code",
   "execution_count": 4,
   "id": "d0b6d52d-63de-44c2-b9aa-6173a82ca335",
   "metadata": {},
   "outputs": [
    {
     "data": {
      "text/plain": [
       "array([ 1, 10])"
      ]
     },
     "execution_count": 4,
     "metadata": {},
     "output_type": "execute_result"
    }
   ],
   "source": [
    "xs"
   ]
  },
  {
   "cell_type": "code",
   "execution_count": 5,
   "id": "c94e46f2-62da-407a-a494-b908769590c8",
   "metadata": {},
   "outputs": [
    {
     "data": {
      "text/plain": [
       "numpy.ndarray"
      ]
     },
     "execution_count": 5,
     "metadata": {},
     "output_type": "execute_result"
    }
   ],
   "source": [
    "type(xs)"
   ]
  },
  {
   "cell_type": "code",
   "execution_count": 6,
   "id": "1aadc66e-aba8-4763-9c89-81cc8b95f527",
   "metadata": {},
   "outputs": [
    {
     "data": {
      "text/plain": [
       "(2,)"
      ]
     },
     "execution_count": 6,
     "metadata": {},
     "output_type": "execute_result"
    }
   ],
   "source": [
    "# Pay attention to this one\n",
    "xs.shape"
   ]
  },
  {
   "cell_type": "code",
   "execution_count": 7,
   "id": "8fdb8ef7-0f3e-4b73-b74b-f1119b16ef5a",
   "metadata": {},
   "outputs": [],
   "source": [
    "xs = np.array([1,10])"
   ]
  },
  {
   "cell_type": "code",
   "execution_count": 8,
   "id": "beabd698-e780-44f4-9fa0-6f9e12c331fd",
   "metadata": {},
   "outputs": [
    {
     "data": {
      "text/plain": [
       "array([ 1, 10])"
      ]
     },
     "execution_count": 8,
     "metadata": {},
     "output_type": "execute_result"
    }
   ],
   "source": [
    "xs"
   ]
  },
  {
   "cell_type": "code",
   "execution_count": 9,
   "id": "8175f480-6def-4cbb-8859-501cd86cdddc",
   "metadata": {},
   "outputs": [
    {
     "data": {
      "text/plain": [
       "1"
      ]
     },
     "execution_count": 9,
     "metadata": {},
     "output_type": "execute_result"
    }
   ],
   "source": [
    "xs[0]"
   ]
  },
  {
   "cell_type": "code",
   "execution_count": 10,
   "id": "9bff5bb3-f0ba-44bb-b5a4-2bb0a291498d",
   "metadata": {},
   "outputs": [
    {
     "data": {
      "text/plain": [
       "10"
      ]
     },
     "execution_count": 10,
     "metadata": {},
     "output_type": "execute_result"
    }
   ],
   "source": [
    "xs[1]"
   ]
  },
  {
   "cell_type": "code",
   "execution_count": 15,
   "id": "d99f359b-a70a-47e5-ba4d-f8ddce683ea6",
   "metadata": {},
   "outputs": [],
   "source": [
    "ys = np.array([[1,10]])"
   ]
  },
  {
   "cell_type": "code",
   "execution_count": 12,
   "id": "b155052d-47da-4386-8820-037a3f88a171",
   "metadata": {},
   "outputs": [
    {
     "data": {
      "text/plain": [
       "array([[ 1, 10]])"
      ]
     },
     "execution_count": 12,
     "metadata": {},
     "output_type": "execute_result"
    }
   ],
   "source": [
    "ys"
   ]
  },
  {
   "cell_type": "code",
   "execution_count": 16,
   "id": "711f8b6d-b90e-48d5-a007-87f529d76b13",
   "metadata": {},
   "outputs": [
    {
     "data": {
      "text/plain": [
       "numpy.ndarray"
      ]
     },
     "execution_count": 16,
     "metadata": {},
     "output_type": "execute_result"
    }
   ],
   "source": [
    "type(ys)"
   ]
  },
  {
   "cell_type": "code",
   "execution_count": 17,
   "id": "52677847-62d6-4763-a531-49c3482d5771",
   "metadata": {},
   "outputs": [
    {
     "data": {
      "text/plain": [
       "(1, 2)"
      ]
     },
     "execution_count": 17,
     "metadata": {},
     "output_type": "execute_result"
    }
   ],
   "source": [
    "# The shape of ys is different from the shape of xs!\n",
    "ys.shape"
   ]
  },
  {
   "cell_type": "code",
   "execution_count": 18,
   "id": "497d7e9e-d2a6-4b3e-a23b-d5fc91d29ee2",
   "metadata": {},
   "outputs": [
    {
     "data": {
      "text/plain": [
       "array([ 1, 10])"
      ]
     },
     "execution_count": 18,
     "metadata": {},
     "output_type": "execute_result"
    }
   ],
   "source": [
    "ys[0]"
   ]
  },
  {
   "cell_type": "code",
   "execution_count": 19,
   "id": "c96341a1-dc47-43a0-9ade-2ce67b0c973d",
   "metadata": {},
   "outputs": [
    {
     "data": {
      "text/plain": [
       "1"
      ]
     },
     "execution_count": 19,
     "metadata": {},
     "output_type": "execute_result"
    }
   ],
   "source": [
    "ys[0][0]"
   ]
  },
  {
   "cell_type": "code",
   "execution_count": 20,
   "id": "92dd62ab-e7dd-4e43-997c-fe1aefccccc8",
   "metadata": {},
   "outputs": [
    {
     "data": {
      "text/plain": [
       "10"
      ]
     },
     "execution_count": 20,
     "metadata": {},
     "output_type": "execute_result"
    }
   ],
   "source": [
    "ys[0][1]"
   ]
  },
  {
   "cell_type": "code",
   "execution_count": 21,
   "id": "3ca10fdd-272f-47f7-b1a9-06d57489dc19",
   "metadata": {},
   "outputs": [],
   "source": [
    "# How to convert a 2-D Numpy array into 1-D\n",
    "length_1d = ys.shape[0]*ys.shape[1]\n",
    "zs = np.reshape(ys,length_1d)"
   ]
  },
  {
   "cell_type": "code",
   "execution_count": 22,
   "id": "56fede23-5951-4c59-8edf-f24a77bcf510",
   "metadata": {},
   "outputs": [
    {
     "data": {
      "text/plain": [
       "(2,)"
      ]
     },
     "execution_count": 22,
     "metadata": {},
     "output_type": "execute_result"
    }
   ],
   "source": [
    "zs.shape"
   ]
  },
  {
   "cell_type": "code",
   "execution_count": 28,
   "id": "294d3647-f77a-4cd7-afb0-2aa216d601a4",
   "metadata": {},
   "outputs": [],
   "source": [
    "# How to convert a 2-D Numpy array into 1-D: '-1' means autofill the length\n",
    "zs = np.reshape(ys,-1)"
   ]
  },
  {
   "cell_type": "code",
   "execution_count": 29,
   "id": "12e9cc91-01aa-444b-b9b1-93389704e6f7",
   "metadata": {},
   "outputs": [
    {
     "data": {
      "text/plain": [
       "(2,)"
      ]
     },
     "execution_count": 29,
     "metadata": {},
     "output_type": "execute_result"
    }
   ],
   "source": [
    "zs.shape"
   ]
  },
  {
   "cell_type": "code",
   "execution_count": 30,
   "id": "9042077f-9037-468d-8bc2-d0b1b8c2b007",
   "metadata": {},
   "outputs": [
    {
     "data": {
      "text/plain": [
       "array([[ 1, 10]])"
      ]
     },
     "execution_count": 30,
     "metadata": {},
     "output_type": "execute_result"
    }
   ],
   "source": [
    "ws = np.reshape(xs,(1,2))\n",
    "ws"
   ]
  },
  {
   "cell_type": "code",
   "execution_count": 31,
   "id": "d9323c49-40b3-41a1-9424-6bef976fb600",
   "metadata": {},
   "outputs": [
    {
     "data": {
      "text/plain": [
       "(1, 2)"
      ]
     },
     "execution_count": 31,
     "metadata": {},
     "output_type": "execute_result"
    }
   ],
   "source": [
    "ws.shape"
   ]
  },
  {
   "cell_type": "code",
   "execution_count": 32,
   "id": "08ea1854-adce-4992-ab18-41f6145510e0",
   "metadata": {},
   "outputs": [
    {
     "data": {
      "text/plain": [
       "array([[ 1],\n",
       "       [10]])"
      ]
     },
     "execution_count": 32,
     "metadata": {},
     "output_type": "execute_result"
    }
   ],
   "source": [
    "ws = np.reshape(xs,(2,1))\n",
    "ws"
   ]
  },
  {
   "cell_type": "code",
   "execution_count": 33,
   "id": "7ce7da82-8f41-42d7-a70a-0567d30eb7ee",
   "metadata": {},
   "outputs": [
    {
     "data": {
      "text/plain": [
       "(2, 1)"
      ]
     },
     "execution_count": 33,
     "metadata": {},
     "output_type": "execute_result"
    }
   ],
   "source": [
    "ws.shape"
   ]
  },
  {
   "cell_type": "code",
   "execution_count": 34,
   "id": "2404881f-1904-4d76-82a3-216d37ea6e6f",
   "metadata": {},
   "outputs": [
    {
     "data": {
      "text/plain": [
       "array([[ 1, 10]])"
      ]
     },
     "execution_count": 34,
     "metadata": {},
     "output_type": "execute_result"
    }
   ],
   "source": [
    "ws = np.reshape(xs,(1,-1))\n",
    "ws"
   ]
  },
  {
   "cell_type": "code",
   "execution_count": 36,
   "id": "02f517ac-c701-4686-bb77-d5e8ba8ef920",
   "metadata": {},
   "outputs": [
    {
     "data": {
      "text/plain": [
       "(1, 2)"
      ]
     },
     "execution_count": 36,
     "metadata": {},
     "output_type": "execute_result"
    }
   ],
   "source": [
    "ws.shape"
   ]
  },
  {
   "cell_type": "code",
   "execution_count": null,
   "id": "d0a18e0e-b718-4107-b28a-f33c9d322bc3",
   "metadata": {},
   "outputs": [],
   "source": [
    "# element-wise equal\n",
    "ws == ys"
   ]
  },
  {
   "cell_type": "code",
   "execution_count": null,
   "id": "02afd73f-bd79-484b-a972-5426b10b4920",
   "metadata": {},
   "outputs": [],
   "source": [
    "# array equal\n",
    "np.array_equal(ws,ys)"
   ]
  },
  {
   "cell_type": "markdown",
   "id": "61421af1-b90b-4993-b0b2-f4c54625c1ed",
   "metadata": {},
   "source": [
    "# Matrix operation"
   ]
  },
  {
   "cell_type": "code",
   "execution_count": 37,
   "id": "a370ff8c-19a8-43e2-a70f-9c78220459a6",
   "metadata": {},
   "outputs": [
    {
     "data": {
      "text/plain": [
       "array([[ 1,  1,  0],\n",
       "       [ 0,  1, -1],\n",
       "       [ 1,  1,  1]])"
      ]
     },
     "execution_count": 37,
     "metadata": {},
     "output_type": "execute_result"
    }
   ],
   "source": [
    "A = np.array([[1,1,0], [0,1,-1], [1,1,1]])\n",
    "A"
   ]
  },
  {
   "cell_type": "code",
   "execution_count": 38,
   "id": "27432426-008a-4353-9c07-a7d494829b1d",
   "metadata": {},
   "outputs": [
    {
     "data": {
      "text/plain": [
       "array([[ 1,  0,  1],\n",
       "       [ 1,  1,  1],\n",
       "       [ 0, -1,  1]])"
      ]
     },
     "execution_count": 38,
     "metadata": {},
     "output_type": "execute_result"
    }
   ],
   "source": [
    "np.transpose(A)"
   ]
  },
  {
   "cell_type": "code",
   "execution_count": 39,
   "id": "ed59134d-a246-4a6f-994a-bec0bfa38aed",
   "metadata": {},
   "outputs": [
    {
     "data": {
      "text/plain": [
       "array([[ 1,  0,  1],\n",
       "       [ 1,  1,  1],\n",
       "       [ 0, -1,  1]])"
      ]
     },
     "execution_count": 39,
     "metadata": {},
     "output_type": "execute_result"
    }
   ],
   "source": [
    "A.T"
   ]
  },
  {
   "cell_type": "code",
   "execution_count": 40,
   "id": "c0e91315-0115-45ba-b2da-e4ff7fce49e3",
   "metadata": {},
   "outputs": [
    {
     "data": {
      "text/plain": [
       "array([2, 1, 3])"
      ]
     },
     "execution_count": 40,
     "metadata": {},
     "output_type": "execute_result"
    }
   ],
   "source": [
    "x = np.array([2,1,3])\n",
    "x"
   ]
  },
  {
   "cell_type": "code",
   "execution_count": 41,
   "id": "88f086b0-a694-4e5e-b0c4-6dfdddf0cfb9",
   "metadata": {},
   "outputs": [
    {
     "data": {
      "text/plain": [
       "array([[2],\n",
       "       [1],\n",
       "       [3]])"
      ]
     },
     "execution_count": 41,
     "metadata": {},
     "output_type": "execute_result"
    }
   ],
   "source": [
    "x = np.array([2,1,3]).reshape((3,1))\n",
    "x"
   ]
  },
  {
   "cell_type": "code",
   "execution_count": 42,
   "id": "0e4a956f-3367-4079-9467-5b21a8f8df32",
   "metadata": {},
   "outputs": [
    {
     "data": {
      "text/plain": [
       "array([[ 2,  2,  0],\n",
       "       [ 0,  1, -1],\n",
       "       [ 3,  3,  3]])"
      ]
     },
     "execution_count": 42,
     "metadata": {},
     "output_type": "execute_result"
    }
   ],
   "source": [
    "A*x"
   ]
  },
  {
   "cell_type": "code",
   "execution_count": 43,
   "id": "0375cbed-28ce-4b90-a158-477e01a5d05d",
   "metadata": {},
   "outputs": [
    {
     "data": {
      "text/plain": [
       "array([[1, 0, 0],\n",
       "       [0, 2, 0],\n",
       "       [0, 0, 3]])"
      ]
     },
     "execution_count": 43,
     "metadata": {},
     "output_type": "execute_result"
    }
   ],
   "source": [
    "np.diag([1,2,3])"
   ]
  },
  {
   "cell_type": "code",
   "execution_count": 44,
   "id": "62cdf7d3-a5c8-4c00-b933-007014836f2c",
   "metadata": {},
   "outputs": [
    {
     "data": {
      "text/plain": [
       "array([[1., 1., 1., 1.],\n",
       "       [1., 1., 1., 1.],\n",
       "       [1., 1., 1., 1.],\n",
       "       [1., 1., 1., 1.]])"
      ]
     },
     "execution_count": 44,
     "metadata": {},
     "output_type": "execute_result"
    }
   ],
   "source": [
    "np.ones((4,4))"
   ]
  },
  {
   "cell_type": "code",
   "execution_count": 45,
   "id": "714435d5-8c3d-4af7-8e47-9cabaa2db608",
   "metadata": {},
   "outputs": [
    {
     "data": {
      "text/plain": [
       "array([[1., 0., 0., 0.],\n",
       "       [0., 1., 0., 0.],\n",
       "       [0., 0., 1., 0.],\n",
       "       [0., 0., 0., 1.]])"
      ]
     },
     "execution_count": 45,
     "metadata": {},
     "output_type": "execute_result"
    }
   ],
   "source": [
    "np.eye(4)"
   ]
  }
 ],
 "metadata": {
  "kernelspec": {
   "display_name": "Python 3 (ipykernel)",
   "language": "python",
   "name": "python3"
  },
  "language_info": {
   "codemirror_mode": {
    "name": "ipython",
    "version": 3
   },
   "file_extension": ".py",
   "mimetype": "text/x-python",
   "name": "python",
   "nbconvert_exporter": "python",
   "pygments_lexer": "ipython3",
   "version": "3.9.13"
  }
 },
 "nbformat": 4,
 "nbformat_minor": 5
}
