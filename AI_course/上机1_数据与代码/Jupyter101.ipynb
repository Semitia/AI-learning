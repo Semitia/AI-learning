{
 "cells": [
  {
   "cell_type": "markdown",
   "id": "f6bd30b9-0879-4be4-88a3-b389332db9ad",
   "metadata": {},
   "source": [
    "# Jupyter Notebook 101"
   ]
  },
  {
   "cell_type": "markdown",
   "id": "ea96796f-3b65-469a-8c0e-009e1ccd60c7",
   "metadata": {},
   "source": [
    "(*) 代表高级功能介绍。高级功能介绍可能包含本课程没有讲过的概念。跳过高级功能介绍不影响本课程的学习。"
   ]
  },
  {
   "cell_type": "code",
   "execution_count": 1,
   "id": "11a52172-3efa-47bf-8a4a-9f2377fc9e41",
   "metadata": {},
   "outputs": [
    {
     "name": "stdout",
     "output_type": "stream",
     "text": [
      "3\n"
     ]
    }
   ],
   "source": [
    "# 可在此写Python代码，ctrl+Enter运行，或点击上方“运行”按钮运行\n",
    "a = 1\n",
    "b = 2\n",
    "c = a + b\n",
    "print(c)"
   ]
  },
  {
   "cell_type": "code",
   "execution_count": 2,
   "id": "b7b44d5b",
   "metadata": {},
   "outputs": [
    {
     "data": {
      "text/plain": [
       "503.6923076923077"
      ]
     },
     "execution_count": 2,
     "metadata": {},
     "output_type": "execute_result"
    }
   ],
   "source": [
    "6548/13"
   ]
  },
  {
   "cell_type": "code",
   "execution_count": null,
   "id": "e231a8b8-2e76-4aa5-8c03-048b8b5ad8d1",
   "metadata": {},
   "outputs": [],
   "source": [
    "# 上方菜单栏显示 Code 代表此框为代码"
   ]
  },
  {
   "cell_type": "code",
   "execution_count": null,
   "id": "5117870e-da03-47a4-8e7f-e9f840a6aca2",
   "metadata": {},
   "outputs": [],
   "source": [
    "# (*)\n",
    "# 以下文本框不是代码"
   ]
  },
  {
   "cell_type": "markdown",
   "id": "32e72429-28ed-48ce-a9b0-887c0319e16f",
   "metadata": {},
   "source": [
    "(*) \n",
    "\n",
    "正上方菜单栏显示 Markdown _代表_ __此框__ 为 Markdown 文本\n",
    "\n",
    "这里也可以编写 Latex 公式： $\\frac{a+b}{ab}$"
   ]
  },
  {
   "cell_type": "code",
   "execution_count": null,
   "id": "fa81c430",
   "metadata": {},
   "outputs": [],
   "source": [
    "# 若出现代码无法运行的情况，首先请检查文本框是否为 Code 模式"
   ]
  },
  {
   "cell_type": "code",
   "execution_count": null,
   "id": "bb759d5b-898c-4d96-95ad-b931d3782108",
   "metadata": {},
   "outputs": [],
   "source": [
    "# 左上方菜单栏\n",
    "# Edit中可以对各cell（即文本框）进行操作，如复制、合并、移动等\n",
    "# Run中可以有选择地运行代码框，如运行选中的代码框，运行以上所有或以下所有代码框等\n",
    "# Kernel中可以中断“Python”，或者重启“Python”"
   ]
  },
  {
   "cell_type": "code",
   "execution_count": null,
   "id": "d2b07ca1-54d9-4438-a755-6d9626d60d06",
   "metadata": {},
   "outputs": [],
   "source": [
    "# Jupyter Notebook 有大量快捷键"
   ]
  },
  {
   "cell_type": "code",
   "execution_count": null,
   "id": "c8affa00",
   "metadata": {},
   "outputs": [],
   "source": [
    "# esc 进入命令行模式，h调出快捷键帮助"
   ]
  },
  {
   "cell_type": "code",
   "execution_count": null,
   "id": "251f982a",
   "metadata": {},
   "outputs": [],
   "source": [
    "# enter 进入编辑模式\n",
    "1+2"
   ]
  },
  {
   "cell_type": "code",
   "execution_count": null,
   "id": "3dd5a5de-9d46-458c-99c9-07ea780d6f76",
   "metadata": {},
   "outputs": [],
   "source": [
    "# (*)\n",
    "# 代码框也可运行 Bash 命令\n",
    "# 方法为在命令前加感叹号！\n",
    "# Linux\n",
    "!ls"
   ]
  },
  {
   "cell_type": "code",
   "execution_count": null,
   "id": "fd70a62d",
   "metadata": {},
   "outputs": [],
   "source": [
    "# (*)\n",
    "# 代码框也可运行 Bash 命令\n",
    "# 方法为在命令前加感叹号！\n",
    "# Windows\n",
    "!dir"
   ]
  },
  {
   "cell_type": "code",
   "execution_count": null,
   "id": "d5407003-f165-40b5-a009-ce9730526506",
   "metadata": {},
   "outputs": [],
   "source": [
    "# Jupyter Noteboo保存为 ipynb 文件，之后可用Jupyter Notebook再打开\n",
    "# 也可导出为 pdf 文档 或 html 网页"
   ]
  }
 ],
 "metadata": {
  "kernelspec": {
   "display_name": "Python 3 (ipykernel)",
   "language": "python",
   "name": "python3"
  },
  "language_info": {
   "codemirror_mode": {
    "name": "ipython",
    "version": 3
   },
   "file_extension": ".py",
   "mimetype": "text/x-python",
   "name": "python",
   "nbconvert_exporter": "python",
   "pygments_lexer": "ipython3",
   "version": "3.9.13"
  }
 },
 "nbformat": 4,
 "nbformat_minor": 5
}
