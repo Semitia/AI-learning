{
 "cells": [
  {
   "cell_type": "code",
   "execution_count": 11,
   "metadata": {},
   "outputs": [
    {
     "name": "stdout",
     "output_type": "stream",
     "text": [
      "using cuda device.\n",
      "Current working directory: d:\\CODE\\Pycharm\\Codes\\AI\\scripts\n"
     ]
    }
   ],
   "source": [
    "import os\n",
    "import timm\n",
    "import numpy as np\n",
    "import torchvision,torch,time\n",
    "\n",
    "from torch import nn\n",
    "from torchvision import datasets, transforms\n",
    "from torch.utils.data import DataLoader, Dataset\n",
    "from torch.utils.tensorboard import SummaryWriter\n",
    "from torch.nn import Conv2d, MaxPool2d, Flatten, Linear, Sequential\n",
    "\n",
    "# 设备\n",
    "device = torch.device(\"cuda\" if torch.cuda.is_available() else \"cpu\")\n",
    "print(\"using {} device.\".format(device))\n",
    "current_directory = os.getcwd()\n",
    "print(\"Current working directory:\", current_directory)"
   ]
  },
  {
   "cell_type": "code",
   "execution_count": 9,
   "metadata": {},
   "outputs": [
    {
     "name": "stdout",
     "output_type": "stream",
     "text": [
      "Mean: [0.53470237 0.53470237 0.53470237]\n",
      "Std: [0.09273925 0.09273925 0.09273925]\n",
      "训练数据集的长度为：5055\n",
      "测试数据集的长度为：1446\n",
      "Class to index mapping: {'cr': 0, 'gg': 1, 'in': 2, 'pa': 3, 'ps': 4, 'rp': 5, 'rs': 6, 'sc': 7, 'sp': 8}\n"
     ]
    }
   ],
   "source": [
    "data_dir = '../dataset/Summer_camp/dataset1/'\n",
    "train_data = datasets.ImageFolder(root=data_dir + 'train', transform=transforms.ToTensor())\n",
    "test_data = datasets.ImageFolder(root=data_dir + 'val', transform=transforms.ToTensor())\n",
    "\n",
    "# 计算均值和标准差\n",
    "mean = np.zeros(3)\n",
    "std = np.zeros(3)\n",
    "num_images = 0\n",
    "for img, _ in train_data:\n",
    "    mean += img.mean(dim=[1, 2]).numpy()\n",
    "    std += img.std(dim=[1, 2]).numpy()\n",
    "    num_images += 1\n",
    "mean /= num_images\n",
    "std /= num_images\n",
    "print(f'Mean: {mean}')\n",
    "print(f'Std: {std}')\n",
    "transform = transforms.Compose([\n",
    "    # transforms.RandomResizedCrop(64),       # 随机裁剪并调整大小\n",
    "    transforms.RandomHorizontalFlip(),        # 随机水平翻转\n",
    "    transforms.ToTensor(),                    # 转换为张量\n",
    "    transforms.Normalize(mean=mean, std=std)  # 归一化\n",
    "])\n",
    "train_data = datasets.ImageFolder(root=data_dir + 'train', transform=transform)\n",
    "test_data = datasets.ImageFolder(root=data_dir + 'val', transform=transform)\n",
    "train_dataloader = DataLoader(train_data, batch_size=64)\n",
    "test_dataloader = DataLoader(test_data, batch_size=64)\n",
    "\n",
    "# 长度\n",
    "train_data_size = len(train_data)\n",
    "test_data_size = len(test_data)\n",
    "print(\"训练数据集的长度为：{}\".format(train_data_size))\n",
    "print(\"测试数据集的长度为：{}\".format(test_data_size))\n",
    "# 打印类别到索引的映射\n",
    "print(\"Class to index mapping:\", train_data.class_to_idx)"
   ]
  },
  {
   "cell_type": "code",
   "execution_count": 12,
   "metadata": {},
   "outputs": [
    {
     "name": "stdout",
     "output_type": "stream",
     "text": [
      "torch.Size([64, 9])\n"
     ]
    }
   ],
   "source": [
    "tudui = timm.create_model('resnest50d', pretrained=True)\n",
    "num_features = tudui.get_classifier().in_features\n",
    "num_classes = len(train_data.classes)\n",
    "tudui.fc = nn.Linear(num_features, num_classes)\n",
    "tudui = tudui.to(device) # 要放在后面\n",
    "\n",
    "loss_fn = nn.CrossEntropyLoss() # 交叉熵损失函数\n",
    "loss_fn = loss_fn.to(device)\n",
    "learning_rate = 1e-3\n",
    "optimizer = torch.optim.SGD(tudui.parameters(), lr=learning_rate)\n",
    "input = torch.randn(64, 3, 64, 64).to(device)\n",
    "output = tudui(input)\n",
    "print(output.shape)"
   ]
  },
  {
   "cell_type": "code",
   "execution_count": 15,
   "metadata": {},
   "outputs": [
    {
     "name": "stdout",
     "output_type": "stream",
     "text": [
      "-------第 1 轮训练开始-------\n",
      "整体测试集上的Loss: 52.00602686405182\n",
      "整体测试集上的正确率: 0.20401106774806976\n",
      "模型已保存，耗时：16.312937021255493\n",
      "-------第 2 轮训练开始-------\n",
      "整体测试集上的Loss: 50.60505723953247\n",
      "整体测试集上的正确率: 0.210235133767128\n",
      "模型已保存，耗时：15.99290919303894\n",
      "-------第 3 轮训练开始-------\n"
     ]
    }
   ],
   "source": [
    "total_train_step = 0    # 训练次数\n",
    "total_test_step = 0     # 测试次数\n",
    "epoch = 200              # 训练轮数\n",
    "best_acc = 0\n",
    "writer = SummaryWriter(\"../logs/res_sample\")\n",
    "last_time = time.time()\n",
    "for i in range(epoch):\n",
    "    print(\"-------第 {} 轮训练开始-------\".format(i+1))\n",
    "    # 训练\n",
    "    tudui.train() # 对某些特定的层需要此句\n",
    "    for data in train_dataloader:\n",
    "        inputs, labels = data\n",
    "        inputs = inputs.to(device)\n",
    "        labels = labels.to(device)\n",
    "        outputs = tudui(inputs)\n",
    "        loss = loss_fn(outputs, labels)\n",
    "\n",
    "        # 优化器优化模型\n",
    "        optimizer.zero_grad()\n",
    "        loss.backward()\n",
    "        optimizer.step()\n",
    "\n",
    "        total_train_step = total_train_step + 1\n",
    "        # if total_train_step % 100 == 0:\n",
    "        #     print(\"训练次数：{}, Loss: {}\".format(total_train_step, loss.item()))\n",
    "        #     writer.add_scalar(\"train_loss\", loss.item(), total_train_step)\n",
    "\n",
    "    # 测试\n",
    "    tudui.eval() # 对某些特定的层需要此句\n",
    "    total_test_loss = 0\n",
    "    total_accuracy = 0\n",
    "    with torch.no_grad():\n",
    "        for data in test_dataloader:\n",
    "            inputs, labels = data\n",
    "            inputs = inputs.to(device)\n",
    "            labels = labels.to(device)\n",
    "            outputs = tudui(inputs)\n",
    "            loss = loss_fn(outputs, labels)\n",
    "            total_test_loss = total_test_loss + loss.item()\n",
    "            accuracy = (outputs.argmax(1) == labels).sum() # argmax取最大值，(0)竖着看，(1)横着看\n",
    "            total_accuracy = total_accuracy + accuracy\n",
    "\n",
    "    total_accuracy = total_accuracy/test_data_size\n",
    "    print(\"整体测试集上的Loss: {}\".format(total_test_loss))\n",
    "    print(\"整体测试集上的正确率: {}\".format(total_accuracy))\n",
    "    writer.add_scalar(\"test_loss\", total_test_loss, total_test_step)\n",
    "    writer.add_scalar(\"test_accuracy\", total_accuracy, total_test_step)\n",
    "    total_test_step = total_test_step + 1\n",
    "    if total_accuracy > best_acc:\n",
    "        # torch.save(v.state_dict(), \"../models/res_sample/res_{}.pth\".format(i))\n",
    "        torch.save(tudui.state_dict(), \"../models/res_sample/res_best.pth\")\n",
    "        best_acc = total_accuracy\n",
    "    delta_time = time.time() - last_time\n",
    "    last_time = time.time()\n",
    "    print(\"模型已保存，耗时：{}\".format(delta_time))\n",
    "\n",
    "writer.close()"
   ]
  }
 ],
 "metadata": {
  "kernelspec": {
   "display_name": ".venv",
   "language": "python",
   "name": "python3"
  },
  "language_info": {
   "codemirror_mode": {
    "name": "ipython",
    "version": 3
   },
   "file_extension": ".py",
   "mimetype": "text/x-python",
   "name": "python",
   "nbconvert_exporter": "python",
   "pygments_lexer": "ipython3",
   "version": "3.9.13"
  }
 },
 "nbformat": 4,
 "nbformat_minor": 2
}
