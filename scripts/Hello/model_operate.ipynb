{
 "cells": [
  {
   "cell_type": "code",
   "execution_count": 3,
   "metadata": {},
   "outputs": [],
   "source": [
    "# -*- coding: utf-8 -*-\n",
    "# 作者：小土堆\n",
    "# 公众号：土堆碎念\n",
    "import torch\n",
    "import torchvision\n",
    "from torch import nn"
   ]
  },
  {
   "cell_type": "code",
   "execution_count": null,
   "metadata": {},
   "outputs": [],
   "source": [
    "\n",
    "vgg16 = torchvision.models.vgg16(weights=None)\n",
    "# 保存方式1,模型结构+模型参数\n",
    "torch.save(vgg16, \"../models/vgg16.pth\")\n",
    "# 此方式保存的模型文件较大，并且读取时需要提供模型类（自己的模型容易漏）"
   ]
  },
  {
   "cell_type": "code",
   "execution_count": null,
   "metadata": {},
   "outputs": [],
   "source": [
    "# 加载方式1-保存方式1\n",
    "model = torch.load(\"../models/vgg16.pth\")\n",
    "print(model)"
   ]
  },
  {
   "cell_type": "code",
   "execution_count": 5,
   "metadata": {},
   "outputs": [],
   "source": [
    "# 保存方式2，模型参数（官方推荐）\n",
    "torch.save(vgg16.state_dict(), \"../models/vgg16_method2.pth\")"
   ]
  },
  {
   "cell_type": "code",
   "execution_count": null,
   "metadata": {},
   "outputs": [],
   "source": [
    "# 保存方式2-加载方式2\n",
    "vgg16 = torchvision.models.vgg16(weights=None)\n",
    "vgg16.load_state_dict(torch.load(\"../models/vgg16_method2.pth\"))\n",
    "print(vgg16)"
   ]
  }
 ],
 "metadata": {
  "kernelspec": {
   "display_name": ".venv",
   "language": "python",
   "name": "python3"
  },
  "language_info": {
   "codemirror_mode": {
    "name": "ipython",
    "version": 3
   },
   "file_extension": ".py",
   "mimetype": "text/x-python",
   "name": "python",
   "nbconvert_exporter": "python",
   "pygments_lexer": "ipython3",
   "version": "3.9.13"
  }
 },
 "nbformat": 4,
 "nbformat_minor": 2
}
